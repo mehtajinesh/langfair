{
 "cells": [
  {
   "cell_type": "code",
   "execution_count": 1,
   "metadata": {},
   "outputs": [
    {
     "name": "stderr",
     "output_type": "stream",
     "text": [
      "/Users/c767873/Library/Caches/pypoetry/virtualenvs/langfair-ZgpfWZGz-py3.9/lib/python3.9/site-packages/tqdm/auto.py:21: TqdmWarning: IProgress not found. Please update jupyter and ipywidgets. See https://ipywidgets.readthedocs.io/en/stable/user_install.html\n",
      "  from .autonotebook import tqdm as notebook_tqdm\n",
      "Device set to use mps:0\n"
     ]
    }
   ],
   "source": [
    "import json\n",
    "import os\n",
    "import warnings\n",
    "\n",
    "import numpy as np\n",
    "from dotenv import find_dotenv, load_dotenv\n",
    "from langchain_core.rate_limiters import InMemoryRateLimiter\n",
    "\n",
    "from langfair.auto import AutoEval\n",
    "\n",
    "warnings.filterwarnings(\"ignore\")"
   ]
  },
  {
   "cell_type": "code",
   "execution_count": 2,
   "metadata": {},
   "outputs": [],
   "source": [
    "# User to populate .env file with API credentials\n",
    "repo_path = \"/\".join(os.getcwd().split(\"/\")[:-3])\n",
    "load_dotenv(find_dotenv())\n",
    "\n",
    "API_KEY = os.getenv(\"API_KEY\")\n",
    "API_BASE = os.getenv(\"API_BASE\")\n",
    "API_TYPE = os.getenv(\"API_TYPE\")\n",
    "API_VERSION = os.getenv(\"API_VERSION\")\n",
    "MODEL_VERSION = os.getenv(\"MODEL_VERSION\")\n",
    "DEPLOYMENT_NAME = os.getenv(\"DEPLOYMENT_NAME\")"
   ]
  },
  {
   "cell_type": "code",
   "execution_count": 3,
   "metadata": {},
   "outputs": [],
   "source": [
    "from langfair.utils.dataloader import load_dialogsum\n",
    "\n",
    "n = 5  # number of prompts we want to test\n",
    "dialogue = load_dialogsum(n=n)\n",
    "\n",
    "INSTRUCTION = (\n",
    "    \"You are to summarize the following conversation in no more than 3 sentences: \\n\"\n",
    ")\n",
    "prompts = [INSTRUCTION + str(text) for text in dialogue[:n]]"
   ]
  },
  {
   "cell_type": "code",
   "execution_count": 4,
   "metadata": {},
   "outputs": [],
   "source": [
    "# Use LangChain's InMemoryRateLimiter to avoid rate limit errors. Adjust parameters as necessary.\n",
    "rate_limiter = InMemoryRateLimiter(\n",
    "    requests_per_second=10,\n",
    "    check_every_n_seconds=10,\n",
    "    max_bucket_size=1000,\n",
    ")"
   ]
  },
  {
   "cell_type": "code",
   "execution_count": 5,
   "metadata": {},
   "outputs": [],
   "source": [
    "import openai\n",
    "from langchain_openai import AzureChatOpenAI\n",
    "\n",
    "llm = AzureChatOpenAI(\n",
    "    deployment_name=DEPLOYMENT_NAME,\n",
    "    openai_api_key=API_KEY,\n",
    "    azure_endpoint=API_BASE,\n",
    "    openai_api_type=API_TYPE,\n",
    "    openai_api_version=API_VERSION,\n",
    "    temperature=1,  # User to set temperature\n",
    "    rate_limiter=rate_limiter,\n",
    ")\n",
    "\n",
    "# Define exceptions to suppress\n",
    "suppressed_exceptions = (\n",
    "    openai.BadRequestError,\n",
    "    ValueError,\n",
    ")  # this suppresses content filtering errors"
   ]
  },
  {
   "cell_type": "code",
   "execution_count": 6,
   "metadata": {},
   "outputs": [],
   "source": [
    "ae = AutoEval(\n",
    "    prompts=prompts,  # small sample used as an example; in practice, a bigger sample should be used\n",
    "    langchain_llm=llm,\n",
    "    suppressed_exceptions=suppressed_exceptions,\n",
    "    metrics={\n",
    "        \"counterfactual\": [\"Rougel\", \"Bleu\", \"Sentiment Bias\"],\n",
    "        \"stereotype\": [\n",
    "            \"Stereotype Association\",\n",
    "            \"Cooccurrence Bias\",\n",
    "        ],\n",
    "        \"toxicity\": [\n",
    "            \"Toxic Fraction\",\n",
    "            \"Expected Maximum Toxicity\",\n",
    "            \"Toxicity Probability\",\n",
    "        ],\n",
    "    },\n",
    "    # toxicity_device=device # uncomment if GPU is available\n",
    ")"
   ]
  },
  {
   "cell_type": "code",
   "execution_count": 7,
   "metadata": {},
   "outputs": [
    {
     "name": "stdout",
     "output_type": "stream",
     "text": [
      "\u001b[1mStep 1: Fairness Through Unawareness Check\u001b[0m\n",
      "------------------------------------------\n",
      "Number of prompts containing race words: 0\n",
      "Number of prompts containing gender words: 3\n",
      "Fairness through unawareness is not satisfied. Toxicity, stereotype, and counterfactual fairness assessments will be conducted.\n",
      "\n",
      "\u001b[1mStep 2: Generate Counterfactual Dataset\u001b[0m\n",
      "---------------------------------------\n",
      "Gender words found in 3 prompts.\n",
      "Generating 25 responses for each gender prompt...\n",
      "Responses successfully generated!\n",
      "\n",
      "\u001b[1mStep 3: Generating Model Responses\u001b[0m\n",
      "----------------------------------\n",
      "Generating 25 responses per prompt...\n",
      "Responses successfully generated!\n",
      "\n",
      "\u001b[1mStep 4: Evaluate Toxicity Metrics\u001b[0m\n",
      "---------------------------------\n",
      "Computing toxicity scores...\n",
      "Evaluating metrics...\n",
      "\n",
      "\u001b[1mStep 5: Evaluate Stereotype Metrics\u001b[0m\n",
      "-----------------------------------\n",
      "Computing stereotype scores...\n",
      "Evaluating metrics...\n",
      "\n",
      "\u001b[1mStep 6: Evaluate Counterfactual Metrics\u001b[0m\n",
      "---------------------------------------\n",
      "Evaluating metrics...\n",
      "{'male-female': {'Cosine Similarity': 0.8793611, 'RougeL Similarity': 0.4758543099283501, 'Bleu Similarity': 0.2619907374878965, 'Sentiment Bias': 0.006973333333333334}}\n"
     ]
    }
   ],
   "source": [
    "warnings.filterwarnings(\"ignore\")\n",
    "results = await ae.evaluate(return_data=True)"
   ]
  },
  {
   "cell_type": "code",
   "execution_count": 8,
   "metadata": {},
   "outputs": [],
   "source": [
    "results = {\n",
    "    \"counterfactual_responses\": ae.counterfactual_responses,\n",
    "    \"prompts\": ae.prompts,\n",
    "    \"responses\": ae.responses,\n",
    "    \"toxicity_metrics\": ae.results[\"metrics\"][\"Toxicity\"],\n",
    "    \"stereotype_metrics\": ae.results[\"metrics\"][\"Stereotype\"],\n",
    "    \"counterfactual_metrics\": {\n",
    "        key: np.float64(ae.results[\"metrics\"][\"Counterfactual\"][\"male-female\"][key])\n",
    "        for key in ae.results[\"metrics\"][\"Counterfactual\"][\"male-female\"]\n",
    "    },\n",
    "}\n",
    "autoeval_results_file = \"autoeval_results_file.json\"\n",
    "with open(autoeval_results_file, \"w\") as f:\n",
    "    json.dump(results, f)"
   ]
  }
 ],
 "metadata": {
  "kernelspec": {
   "display_name": "langfair-ZgpfWZGz-py3.9",
   "language": "python",
   "name": "python3"
  },
  "language_info": {
   "codemirror_mode": {
    "name": "ipython",
    "version": 3
   },
   "file_extension": ".py",
   "mimetype": "text/x-python",
   "name": "python",
   "nbconvert_exporter": "python",
   "pygments_lexer": "ipython3",
   "version": "3.9.4"
  }
 },
 "nbformat": 4,
 "nbformat_minor": 2
}
