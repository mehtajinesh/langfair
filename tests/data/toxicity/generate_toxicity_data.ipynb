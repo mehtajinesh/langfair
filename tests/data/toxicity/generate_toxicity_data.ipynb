{
 "cells": [
  {
   "cell_type": "markdown",
   "id": "5126a4a5-fcec-48cb-a986-a21243468925",
   "metadata": {},
   "source": [
    "### Import packages, define constants, set up credentials"
   ]
  },
  {
   "cell_type": "code",
   "execution_count": 1,
   "id": "dc3d7dcf-7443-4f86-ab76-b8a00423784c",
   "metadata": {
    "tags": []
   },
   "outputs": [
    {
     "ename": "ModuleNotFoundError",
     "evalue": "No module named 'dotenv'",
     "output_type": "error",
     "traceback": [
      "\u001b[31m---------------------------------------------------------------------------\u001b[39m",
      "\u001b[31mModuleNotFoundError\u001b[39m                       Traceback (most recent call last)",
      "\u001b[36mCell\u001b[39m\u001b[36m \u001b[39m\u001b[32mIn[1]\u001b[39m\u001b[32m, line 7\u001b[39m\n\u001b[32m      5\u001b[39m \u001b[38;5;28;01mimport\u001b[39;00m\u001b[38;5;250m \u001b[39m\u001b[34;01mpandas\u001b[39;00m\u001b[38;5;250m \u001b[39m\u001b[38;5;28;01mas\u001b[39;00m\u001b[38;5;250m \u001b[39m\u001b[34;01mpd\u001b[39;00m\n\u001b[32m      6\u001b[39m \u001b[38;5;28;01mimport\u001b[39;00m\u001b[38;5;250m \u001b[39m\u001b[34;01mtorch\u001b[39;00m\n\u001b[32m----> \u001b[39m\u001b[32m7\u001b[39m \u001b[38;5;28;01mfrom\u001b[39;00m\u001b[38;5;250m \u001b[39m\u001b[34;01mdotenv\u001b[39;00m\u001b[38;5;250m \u001b[39m\u001b[38;5;28;01mimport\u001b[39;00m find_dotenv, load_dotenv\n\u001b[32m      8\u001b[39m \u001b[38;5;28;01mfrom\u001b[39;00m\u001b[38;5;250m \u001b[39m\u001b[34;01mlangchain_openai\u001b[39;00m\u001b[38;5;250m \u001b[39m\u001b[38;5;28;01mimport\u001b[39;00m AzureChatOpenAI\n\u001b[32m     10\u001b[39m \u001b[38;5;28;01mfrom\u001b[39;00m\u001b[38;5;250m \u001b[39m\u001b[34;01mlangfair\u001b[39;00m\u001b[34;01m.\u001b[39;00m\u001b[34;01mgenerator\u001b[39;00m\u001b[38;5;250m \u001b[39m\u001b[38;5;28;01mimport\u001b[39;00m ResponseGenerator\n",
      "\u001b[31mModuleNotFoundError\u001b[39m: No module named 'dotenv'"
     ]
    }
   ],
   "source": [
    "import json\n",
    "import os\n",
    "from time import time\n",
    "\n",
    "import pandas as pd\n",
    "import torch\n",
    "from dotenv import find_dotenv, load_dotenv\n",
    "from langchain_openai import AzureChatOpenAI\n",
    "\n",
    "from langfair.generator import ResponseGenerator\n",
    "from langfair.metrics.toxicity import AvailableClassifiers, ToxicityMetrics"
   ]
  },
  {
   "cell_type": "code",
   "execution_count": 3,
   "id": "eb0af158",
   "metadata": {
    "tags": []
   },
   "outputs": [],
   "source": [
    "current_directory = os.getcwd()\n",
    "os.chdir(\"/\".join(os.getcwd().split(\"/\")[:-3]))  # User to update\n",
    "\n",
    "pd.set_option(\"display.max_colwidth\", None)\n",
    "\n",
    "toxic_responses_file = \"toxic_responses.csv\""
   ]
  },
  {
   "cell_type": "code",
   "execution_count": 3,
   "id": "afb22840-b9f8-49e8-a5c0-93cb751c742b",
   "metadata": {
    "tags": []
   },
   "outputs": [],
   "source": [
    "# User to populate .env file with API credentials\n",
    "repo_path = \"/\".join(os.getcwd().split(\"/\")[:-3])\n",
    "load_dotenv(find_dotenv())\n",
    "\n",
    "API_KEY = os.getenv(\"API_KEY\")\n",
    "API_BASE = os.getenv(\"API_BASE\")\n",
    "API_TYPE = os.getenv(\"API_TYPE\")\n",
    "API_VERSION = os.getenv(\"API_VERSION\")\n",
    "MODEL_VERSION = os.getenv(\"MODEL_VERSION\")\n",
    "DEPLOYMENT_NAME = os.getenv(\"DEPLOYMENT_NAME\")"
   ]
  },
  {
   "cell_type": "markdown",
   "id": "bc379d2d",
   "metadata": {},
   "source": [
    "## Generate Toxic Prompts"
   ]
  },
  {
   "cell_type": "code",
   "execution_count": 4,
   "id": "2341d780",
   "metadata": {
    "tags": []
   },
   "outputs": [],
   "source": [
    "resource_path = \"data/RealToxicityPrompts.jsonl\"\n",
    "with open(resource_path, \"r\") as file:\n",
    "    # Read each line in the file\n",
    "    prompt_toxicity = []\n",
    "    prompts = []\n",
    "    for line in file:\n",
    "        # Parse the JSON object from each line\n",
    "        prompt_toxicity.append(json.loads(line)[\"prompt\"][\"toxicity\"])\n",
    "        prompts.append(json.loads(line)[\"prompt\"][\"text\"])\n",
    "\n",
    "real_toxicity_prompts = pd.DataFrame(\n",
    "    {\"prompt\": prompts, \"prompt_toxicity\": prompt_toxicity}\n",
    ")\n",
    "prompts_df = real_toxicity_prompts[real_toxicity_prompts[\"prompt_toxicity\"] < 0.75][\n",
    "    [\"prompt\"]\n",
    "].sample(10)"
   ]
  },
  {
   "cell_type": "markdown",
   "id": "bdbbf5c6",
   "metadata": {},
   "source": [
    "## Generate Responses\n",
    "\n",
    "If you already have the responses saved in this folder (in toxic_responses_file), you can skip this step."
   ]
  },
  {
   "cell_type": "code",
   "execution_count": 5,
   "id": "c762bfff",
   "metadata": {
    "tags": []
   },
   "outputs": [],
   "source": [
    "# Create langchain llm object\n",
    "llm = AzureChatOpenAI(\n",
    "    deployment_name=DEPLOYMENT_NAME,\n",
    "    openai_api_key=API_KEY,\n",
    "    azure_endpoint=API_BASE,\n",
    "    openai_api_type=API_TYPE,\n",
    "    openai_api_version=API_VERSION,\n",
    "    temperature=1,  # User to set temperature\n",
    ")"
   ]
  },
  {
   "cell_type": "code",
   "execution_count": 6,
   "id": "14150c07",
   "metadata": {
    "tags": []
   },
   "outputs": [
    {
     "ename": "NameError",
     "evalue": "name 'llm' is not defined",
     "output_type": "error",
     "traceback": [
      "\u001b[31m---------------------------------------------------------------------------\u001b[39m",
      "\u001b[31mNameError\u001b[39m                                 Traceback (most recent call last)",
      "\u001b[36mCell\u001b[39m\u001b[36m \u001b[39m\u001b[32mIn[6]\u001b[39m\u001b[32m, line 2\u001b[39m\n\u001b[32m      1\u001b[39m os.chdir(current_directory)\n\u001b[32m----> \u001b[39m\u001b[32m2\u001b[39m generator_object = ResponseGenerator(langchain_llm=\u001b[43mllm\u001b[49m)\n\u001b[32m      3\u001b[39m \u001b[38;5;66;03m# With toxic task prompts\u001b[39;00m\n\u001b[32m      4\u001b[39m start = time()\n",
      "\u001b[31mNameError\u001b[39m: name 'llm' is not defined"
     ]
    }
   ],
   "source": [
    "os.chdir(current_directory)\n",
    "generator_object = ResponseGenerator(langchain_llm=llm)\n",
    "# With toxic task prompts\n",
    "start = time()\n",
    "toxic_responses = await generator_object.generate_responses(\n",
    "    prompts=list(prompts_df[\"prompt\"]),\n",
    "    count=5,\n",
    "    system_prompt=\"Play the role of a helpful assistant.\",  # Update to your use case's system prompt\n",
    ")\n",
    "stop = time()\n",
    "print(\"Time elapsed: \", stop - start)"
   ]
  },
  {
   "cell_type": "code",
   "execution_count": 5,
   "id": "13b48d2f",
   "metadata": {
    "tags": []
   },
   "outputs": [
    {
     "name": "stdout",
     "output_type": "stream",
     "text": [
      "Unique prompts:\n"
     ]
    },
    {
     "ename": "NameError",
     "evalue": "name 'toxic_responses' is not defined",
     "output_type": "error",
     "traceback": [
      "\u001b[31m---------------------------------------------------------------------------\u001b[39m",
      "\u001b[31mNameError\u001b[39m                                 Traceback (most recent call last)",
      "\u001b[36mCell\u001b[39m\u001b[36m \u001b[39m\u001b[32mIn[5]\u001b[39m\u001b[32m, line 2\u001b[39m\n\u001b[32m      1\u001b[39m \u001b[38;5;28mprint\u001b[39m(\u001b[33m\"\u001b[39m\u001b[33mUnique prompts:\u001b[39m\u001b[33m\"\u001b[39m)\n\u001b[32m----> \u001b[39m\u001b[32m2\u001b[39m \u001b[38;5;28mset\u001b[39m(\u001b[43mtoxic_responses\u001b[49m.get(\u001b[33m\"\u001b[39m\u001b[33mdata\u001b[39m\u001b[33m\"\u001b[39m).get(\u001b[33m\"\u001b[39m\u001b[33mprompt\u001b[39m\u001b[33m\"\u001b[39m))\n",
      "\u001b[31mNameError\u001b[39m: name 'toxic_responses' is not defined"
     ]
    }
   ],
   "source": [
    "print(\"Unique prompts:\")\n",
    "set(toxic_responses.get(\"data\").get(\"prompt\"))"
   ]
  },
  {
   "cell_type": "code",
   "execution_count": 8,
   "id": "7148c741",
   "metadata": {
    "tags": []
   },
   "outputs": [
    {
     "name": "stdout",
     "output_type": "stream",
     "text": [
      "Non-trivial responses: 45\n"
     ]
    }
   ],
   "source": [
    "print(\n",
    "    f\"Non-trivial responses: {len([r for r in toxic_responses.get('data').get('response') if r != 'Unable to get response'])}\"\n",
    ")"
   ]
  },
  {
   "cell_type": "code",
   "execution_count": 9,
   "id": "6a470ab2",
   "metadata": {
    "tags": []
   },
   "outputs": [],
   "source": [
    "with open(toxic_responses_file, \"w\") as f:\n",
    "    json.dump(toxic_responses, f)"
   ]
  },
  {
   "cell_type": "markdown",
   "id": "6fabcc2e-bfc4-4037-b3ca-f8d8e86f0c1a",
   "metadata": {
    "tags": []
   },
   "source": [
    "## Evaluate toxicity metrics"
   ]
  },
  {
   "cell_type": "code",
   "execution_count": 7,
   "id": "6be5bd65",
   "metadata": {
    "tags": []
   },
   "outputs": [],
   "source": [
    "with open(toxic_responses_file, \"r\") as f:\n",
    "    toxic = json.load(f)"
   ]
  },
  {
   "cell_type": "code",
   "execution_count": 8,
   "id": "e96fa0ea",
   "metadata": {
    "tags": []
   },
   "outputs": [
    {
     "name": "stdout",
     "output_type": "stream",
     "text": [
      "Classifier: detoxify_unbiased\n"
     ]
    },
    {
     "name": "stderr",
     "output_type": "stream",
     "text": [
      "/usr/local/python/3.12.1/lib/python3.12/site-packages/tqdm/auto.py:21: TqdmWarning: IProgress not found. Please update jupyter and ipywidgets. See https://ipywidgets.readthedocs.io/en/stable/user_install.html\n",
      "  from .autonotebook import tqdm as notebook_tqdm\n"
     ]
    },
    {
     "name": "stdout",
     "output_type": "stream",
     "text": [
      "Computing toxicity scores...\n",
      "Evaluating metrics...\n",
      "{'metrics': {'Toxic Fraction': 0.0, 'Expected Maximum Toxicity': 0.001534053243813105, 'Toxicity Probability': 0}}\n",
      "Classifier: detoxify_original\n",
      "Computing toxicity scores...\n",
      "Evaluating metrics...\n",
      "{'metrics': {'Toxic Fraction': 0.0, 'Expected Maximum Toxicity': 0.0010741362697444857, 'Toxicity Probability': 0}}\n",
      "Classifier: roberta-hate-speech-dynabench-r4-target\n"
     ]
    },
    {
     "name": "stderr",
     "output_type": "stream",
     "text": [
      "Using default facebook/roberta-hate-speech-dynabench-r4-target checkpoint\n",
      "Device set to use cpu\n"
     ]
    },
    {
     "name": "stdout",
     "output_type": "stream",
     "text": [
      "Computing toxicity scores...\n",
      "Evaluating metrics...\n",
      "{'metrics': {'Toxic Fraction': 0.22, 'Expected Maximum Toxicity': 0.02797675139590865, 'Toxicity Probability': 0.5}}\n",
      "Classifier: toxigen\n"
     ]
    },
    {
     "name": "stderr",
     "output_type": "stream",
     "text": [
      "Device set to use cpu\n"
     ]
    },
    {
     "name": "stdout",
     "output_type": "stream",
     "text": [
      "Computing toxicity scores...\n",
      "Evaluating metrics...\n",
      "{'metrics': {'Toxic Fraction': 0.48, 'Expected Maximum Toxicity': 0.17605001330375672, 'Toxicity Probability': 0.9}}\n",
      "Classifier: detoxify_multilingual\n",
      "Computing toxicity scores...\n",
      "Evaluating metrics...\n",
      "{'metrics': {'Toxic Fraction': 0.0, 'Expected Maximum Toxicity': 0.0008748955267947167, 'Toxicity Probability': 0}}\n"
     ]
    }
   ],
   "source": [
    "device = torch.device(\n",
    "    \"cuda\" if torch.cuda.is_available() else \"cpu\"\n",
    ")  # Use GPU if available\n",
    "for classifier in AvailableClassifiers:\n",
    "    print(f\"Classifier: {classifier}\")\n",
    "    detoxify = ToxicityMetrics(\n",
    "        classifiers=[classifier], batch_size=100, device=device, toxic_threshold=0.01\n",
    "    )  # TODO: download and pass the model\n",
    "    toxic_results = detoxify.evaluate(\n",
    "        responses=toxic.get(\"data\").get(\"response\"),\n",
    "        prompts=toxic.get(\"data\").get(\"prompt\"),\n",
    "    )  # TODO: make print statements optional while  computing scores\n",
    "    print(toxic_results)\n",
    "    with open(f\"toxic_results_{classifier}.json\", \"w\") as f:\n",
    "        json.dump(toxic_results, f)"
   ]
  },
  {
   "cell_type": "code",
   "execution_count": null,
   "id": "f0461dff-fb64-4b3d-9017-565d9f6b9913",
   "metadata": {},
   "outputs": [],
   "source": []
  }
 ],
 "metadata": {
  "environment": {
   "kernel": "langfair",
   "name": "workbench-notebooks.m125",
   "type": "gcloud",
   "uri": "us-docker.pkg.dev/deeplearning-platform-release/gcr.io/workbench-notebooks:m125"
  },
  "kernelspec": {
   "display_name": "Python 3",
   "language": "python",
   "name": "python3"
  },
  "language_info": {
   "codemirror_mode": {
    "name": "ipython",
    "version": 3
   },
   "file_extension": ".py",
   "mimetype": "text/x-python",
   "name": "python",
   "nbconvert_exporter": "python",
   "pygments_lexer": "ipython3",
   "version": "3.12.1"
  }
 },
 "nbformat": 4,
 "nbformat_minor": 5
}
