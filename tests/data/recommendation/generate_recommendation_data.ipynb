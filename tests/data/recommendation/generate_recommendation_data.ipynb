{
 "cells": [
  {
   "cell_type": "code",
   "execution_count": 1,
   "metadata": {},
   "outputs": [],
   "source": [
    "import json\n",
    "\n",
    "from langfair.metrics.recommendation import RecommendationMetrics"
   ]
  },
  {
   "cell_type": "code",
   "execution_count": 2,
   "metadata": {},
   "outputs": [],
   "source": [
    "# Example data for evaluation. In practice, the data should be generated with counterfactual prompts asking for specific recommendations of length k\n",
    "\n",
    "## Example lists for pairwise comparison\n",
    "male_rec_lists = [[\"Love Story\", \"Shake It Off\"], [\"The A Team\", \"Thinking Out Loud\"]]\n",
    "\n",
    "female_rec_lists = [\n",
    "    [\"Love Story\", \"You Belong with Me\"],\n",
    "    [\"Castle on the Hill\", \"Perfect\"],\n",
    "]\n",
    "\n",
    "# Example to compare against neutral recommendations (as in original paper)\n",
    "neutral_dict = {\n",
    "    \"TS\": [\"Love Story\", \"You Belong with Me\"],\n",
    "    \"ES\": [\"The A Team\", \"Thinking Out Loud\"],\n",
    "}\n",
    "\n",
    "# Define dictionary of group-specific recommendation results\n",
    "male_dict = {\n",
    "    \"TS\": [\"Love Story\", \"Shake It Off\"],\n",
    "    \"ES\": [\"The A Team\", \"Thinking Out Loud\"],\n",
    "}\n",
    "female_dict = {\n",
    "    \"TS\": [\"Love Story\", \"You Belong with Me\"],\n",
    "    \"ES\": [\"Castle on the Hill\", \"Perfect\"],\n",
    "}"
   ]
  },
  {
   "cell_type": "code",
   "execution_count": 3,
   "metadata": {},
   "outputs": [],
   "source": [
    "recommendation_dicts = {\n",
    "    \"male_rec_lists\": male_rec_lists,\n",
    "    \"female_rec_lists\": female_rec_lists,\n",
    "    \"neutral_dict\": neutral_dict,\n",
    "    \"male_dict\": male_dict,\n",
    "    \"female_dict\": female_dict,\n",
    "}\n",
    "recommendation_dict_file = \"recommendation_dict_file.csv\"\n",
    "with open(recommendation_dict_file, \"w\") as f:\n",
    "    json.dump(recommendation_dicts, f)"
   ]
  },
  {
   "cell_type": "code",
   "execution_count": 4,
   "metadata": {},
   "outputs": [],
   "source": [
    "RM = RecommendationMetrics()"
   ]
  },
  {
   "cell_type": "code",
   "execution_count": 5,
   "metadata": {},
   "outputs": [
    {
     "data": {
      "text/plain": [
       "{'Jaccard': 0.16666666666666666, 'PRAG': 0.08333333333333333, 'SERP': 0.125}"
      ]
     },
     "execution_count": 5,
     "metadata": {},
     "output_type": "execute_result"
    }
   ],
   "source": [
    "pairwise_results = RM.evaluate_pairwise(female_rec_lists, male_rec_lists)\n",
    "pairwise_results"
   ]
  },
  {
   "cell_type": "code",
   "execution_count": 6,
   "metadata": {},
   "outputs": [],
   "source": [
    "with open(\"recommendation_results_pairwise.json\", \"w\") as f:\n",
    "    json.dump(pairwise_results, f)"
   ]
  },
  {
   "cell_type": "code",
   "execution_count": 7,
   "metadata": {},
   "outputs": [
    {
     "data": {
      "text/plain": [
       "{'Jaccard': {'max': 0.6666666666666666,\n",
       "  'min': 0.5,\n",
       "  'SNSR': 0.16666666666666663,\n",
       "  'SNSV': 0.08333333333333331},\n",
       " 'PRAG': {'max': 0.16666666666666666,\n",
       "  'min': 0.08333333333333333,\n",
       "  'SNSR': 0.08333333333333333,\n",
       "  'SNSV': 0.041666666666666664},\n",
       " 'SERP': {'max': 0.33333333333333337,\n",
       "  'min': 0.20833333333333334,\n",
       "  'SNSR': 0.12500000000000003,\n",
       "  'SNSV': 0.06250000000000001}}"
      ]
     },
     "execution_count": 7,
     "metadata": {},
     "output_type": "execute_result"
    }
   ],
   "source": [
    "against_neutral_results = RM.evaluate_against_neutral(\n",
    "    neutral_dict=neutral_dict, group_dict_list=[male_dict, female_dict]\n",
    ")\n",
    "against_neutral_results"
   ]
  },
  {
   "cell_type": "code",
   "execution_count": 8,
   "metadata": {},
   "outputs": [],
   "source": [
    "with open(\"recommendation_results_against_neutral.json\", \"w\") as f:\n",
    "    json.dump(against_neutral_results, f)"
   ]
  }
 ],
 "metadata": {
  "environment": {
   "kernel": "python3",
   "name": "workbench-notebooks.m121",
   "type": "gcloud",
   "uri": "us-docker.pkg.dev/deeplearning-platform-release/gcr.io/workbench-notebooks:m121"
  },
  "kernelspec": {
   "display_name": ".venv",
   "language": "python",
   "name": "python3"
  },
  "language_info": {
   "codemirror_mode": {
    "name": "ipython",
    "version": 3
   },
   "file_extension": ".py",
   "mimetype": "text/x-python",
   "name": "python",
   "nbconvert_exporter": "python",
   "pygments_lexer": "ipython3",
   "version": "3.9.6"
  }
 },
 "nbformat": 4,
 "nbformat_minor": 4
}
