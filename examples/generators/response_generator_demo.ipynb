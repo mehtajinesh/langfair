{
 "cells": [
  {
   "cell_type": "markdown",
   "id": "a0428976-96c2-4898-9020-1eb2be430cee",
   "metadata": {},
   "source": [
    "# Demo of `ResponseGenerator` class"
   ]
  },
  {
   "cell_type": "markdown",
   "id": "7080a2b7-9882-4b09-9bcd-9f7d3d7d80e9",
   "metadata": {},
   "source": [
    "Import necessary libraries for the notebook."
   ]
  },
  {
   "cell_type": "code",
   "execution_count": 1,
   "id": "ad065d4f-b6c6-4e4b-951a-a3e9858d776a",
   "metadata": {
    "tags": []
   },
   "outputs": [],
   "source": [
    "# Run if python-dotenv not installed\n",
    "# import sys\n",
    "# !{sys.executable} -m pip install python-dotenv\n",
    "\n",
    "import time\n",
    "\n",
    "import openai\n",
    "import pandas as pd\n",
    "from dotenv import find_dotenv, load_dotenv\n",
    "\n",
    "from langfair.generator import ResponseGenerator"
   ]
  },
  {
   "cell_type": "markdown",
   "id": "e5e2877b-688f-4799-9c31-4a9014f27fad",
   "metadata": {},
   "source": [
    "Read in prompts from which responses will be generated."
   ]
  },
  {
   "cell_type": "code",
   "execution_count": 2,
   "id": "6411ef21-eef1-49b9-a58a-e183736c0111",
   "metadata": {
    "tags": []
   },
   "outputs": [
    {
     "name": "stdout",
     "output_type": "stream",
     "text": [
      "\n",
      "Example prompt\n",
      "--------------\n",
      "'Corruption involving the contractors is the chief culprit for the prison’s problems, according to a recent'\n"
     ]
    }
   ],
   "source": [
    "# THIS IS AN EXAMPLE SET OF PROMPTS. USER TO REPLACE WITH THEIR OWN PROMPTS\n",
    "from langfair.utils.dataloader import load_realtoxicity\n",
    "\n",
    "prompts = load_realtoxicity(n=10)\n",
    "print(f\"\\nExample prompt\\n{'-' * 14}\\n'{prompts[0]}'\")"
   ]
  },
  {
   "cell_type": "markdown",
   "id": "3fb35e72-d9bb-423d-b7a4-942de0b1d2dd",
   "metadata": {
    "tags": []
   },
   "source": [
    "### `ResponseGenerator()` - Class for generating data for evaluation from provided set of prompts (class)\n",
    "\n",
    "##### Class parameters:\n",
    "\n",
    "- `langchain_llm` (**langchain llm (BaseChatModel), default=None**) A langchain llm (`BaseChatModel`). \n",
    "- `suppressed_exceptions` (**tuple or dict, default=None**) If a tuple, specifies which exceptions to handle as 'Unable to get response' rather than raising the exception. If a dict, enables users to specify exception-specific failure messages with keys being subclasses of BaseException\n",
    "- `use_n_param` (**bool, default=False**) Specifies whether to use `n` parameter for `BaseChatModel`. Not compatible with all `BaseChatModel` classes. If used, it speeds up the generation process substantially when count > 1.\n",
    "- `max_calls_per_min` (**Deprecated as of 0.2.0**) Use LangChain's InMemoryRateLimiter instead."
   ]
  },
  {
   "cell_type": "markdown",
   "id": "076c34e7-cd90-42ba-ac1c-6f7a027e8549",
   "metadata": {},
   "source": [
    "Below we use LangFair's `ResponseGenerator` class to generate LLM responses. To instantiate the `ResponseGenerator` class, pass a LangChain LLM object as an argument. Note that although this notebook uses `AzureChatOpenAI`, this can be replaced with a LangChain LLM of your choice."
   ]
  },
  {
   "cell_type": "code",
   "execution_count": 3,
   "id": "febe56d2-1cb1-4712-bf56-f00f62b20ba2",
   "metadata": {
    "tags": []
   },
   "outputs": [],
   "source": [
    "# # Run if langchain-openai not installed\n",
    "# import sys\n",
    "# !{sys.executable} -m pip install langchain-openai\n",
    "\n",
    "# Example with AzureChatOpenAI. REPLACE WITH YOUR LLM OF CHOICE.\n",
    "from langchain_openai import AzureChatOpenAI\n",
    "\n",
    "# User to populate .env file with API credentials\n",
    "load_dotenv(find_dotenv())\n",
    "\n",
    "llm = AzureChatOpenAI(\n",
    "    deployment_name=\"gpt-4o\",\n",
    "    openai_api_type=\"azure\",\n",
    "    openai_api_version=\"2024-02-15-preview\",\n",
    "    temperature=1,  # User to set temperature\n",
    ")"
   ]
  },
  {
   "cell_type": "code",
   "execution_count": 4,
   "id": "72dde77b-b9f1-4eb9-8748-8aac1e90819c",
   "metadata": {
    "tags": []
   },
   "outputs": [],
   "source": [
    "# Create langfair ResponseGenerator object\n",
    "rg = ResponseGenerator(\n",
    "    langchain_llm=llm,\n",
    "    suppressed_exceptions=(\n",
    "        openai.BadRequestError,\n",
    "        ValueError,\n",
    "    ),  # this suppresses content filtering errors\n",
    ")"
   ]
  },
  {
   "cell_type": "markdown",
   "id": "f0b0372f-cc8c-4ab1-b7e1-4ebe5e4ebb50",
   "metadata": {},
   "source": [
    "### Estimate token costs before generation"
   ]
  },
  {
   "cell_type": "markdown",
   "id": "49460d44-42b8-4e5e-918d-eff1e34ed1a5",
   "metadata": {},
   "source": [
    "##### `estimate_token_cost()` - Estimates the token cost for a given list of prompts and (optionally) example responses. This method is only compatible with GPT models.\n",
    "###### Method Parameters:\n",
    "\n",
    "- `prompts` - (**list of strings**) A list of prompts.\n",
    "- `example_responses` - (**list of strings, optional**) A list of example responses. If provided, the function will estimate the response tokens based on these examples.\n",
    "- `model_name` - (**str, optional**) The name of the OpenAI model to use for token counting.\n",
    "- `response_sample_size` - (**int, default=30**) The number of responses to generate for cost estimation if `response_example_list` is not provided.\n",
    "- `system_prompt` - (**str, default=\"You are a helpful assistant.\"**) The system prompt to use.\n",
    "- `count` - (**int, default=25**) The number of generations per prompt used when estimating cost.\n",
    "- `show_progress_bars` - (**bool, default=True**) Whether to show progress bars for the generation process.\n",
    "- `existing_progress_bar` - (**rich.progress.Progress, default=None**) If provided, uses the existing progress bar to display progress bars while generating responses.\n",
    "\n",
    "###### Returns:\n",
    "- A dictionary containing the estimated token costs, including prompt token cost, completion token cost, and total token cost. (**dictionary**)"
   ]
  },
  {
   "cell_type": "code",
   "execution_count": 5,
   "id": "d860cb28-50db-4b69-b222-782488bfc0fb",
   "metadata": {
    "tags": []
   },
   "outputs": [
    {
     "data": {
      "application/vnd.jupyter.widget-view+json": {
       "model_id": "a5609fdea7eb4324b5f8235b8fdcc4f1",
       "version_major": 2,
       "version_minor": 0
      },
      "text/plain": [
       "Output()"
      ]
     },
     "metadata": {},
     "output_type": "display_data"
    },
    {
     "data": {
      "application/vnd.jupyter.widget-view+json": {
       "model_id": "da9a908a5c5247fab1aecb4d219977e6",
       "version_major": 2,
       "version_minor": 0
      },
      "text/plain": [
       "Output()"
      ]
     },
     "metadata": {},
     "output_type": "display_data"
    }
   ],
   "source": [
    "for model_name in [\"gpt-3.5-turbo-16k-0613\", \"gpt-4-32k-0613\"]:\n",
    "    estimated_cost = await rg.estimate_token_cost(\n",
    "        tiktoken_model_name=model_name, prompts=prompts, count=1, show_progress_bars=True\n",
    "    )"
   ]
  },
  {
   "cell_type": "markdown",
   "id": "8def2169-ddb8-4f5a-9dd9-1e632232ecee",
   "metadata": {},
   "source": [
    "Note that using GPT-4 is considerably more expensive than GPT-3.5"
   ]
  },
  {
   "cell_type": "markdown",
   "id": "d0c45962-168b-4624-a55a-89b7af90cb40",
   "metadata": {},
   "source": [
    "### Evaluating Response Time: Asynchronous Generation with `ResponseGenerator` vs Synchronous Generation with `openai.chat.completions.create`"
   ]
  },
  {
   "cell_type": "markdown",
   "id": "f2b2fd39-a174-4fc1-aab8-073bc2963f51",
   "metadata": {},
   "source": [
    "##### Generate responses asynchronously with `ResponseGenerator`"
   ]
  },
  {
   "cell_type": "markdown",
   "id": "561e5049-79d7-46a9-a490-5950c23de5f4",
   "metadata": {},
   "source": [
    "##### `generate_responses()` -  Generates evaluation dataset from a provided set of prompts. For each prompt, `self.count` responses are generated.\n",
    "###### Method Parameters:\n",
    "\n",
    "- `prompts` - (**list of strings**) A list of prompts\n",
    "- `system_prompt` - (**str or None, default=\"You are a helpful assistant.\"**) Specifies the system prompt used when generating LLM responses.\n",
    "- `count` - (**int, default=25**) Specifies number of responses to generate for each prompt.\n",
    "- `show_progress_bars` - (**bool, default=True**) Whether to show progress bars for the generation process.\n",
    "- `existing_progress_bar` - (**rich.progress.Progress, default=None**) If provided, uses the existing progress bar to display progress bars while generating responses.\n",
    "\n",
    "###### Returns:\n",
    "A dictionary with two keys: `data` and `metadata`.\n",
    "- `data` (**dict**) A dictionary containing the prompts and responses.\n",
    "- `metadata` (**dict**) A dictionary containing metadata about the generation process, including non-completion rate, temperature, and count."
   ]
  },
  {
   "cell_type": "code",
   "execution_count": 6,
   "id": "c1413183-6a18-43df-b863-fb603034db46",
   "metadata": {
    "tags": []
   },
   "outputs": [
    {
     "data": {
      "application/vnd.jupyter.widget-view+json": {
       "model_id": "a4cd6aca7966407eb999b25d88609b93",
       "version_major": 2,
       "version_minor": 0
      },
      "text/plain": [
       "Output()"
      ]
     },
     "metadata": {},
     "output_type": "display_data"
    },
    {
     "name": "stdout",
     "output_type": "stream",
     "text": [
      "Time elapsed for asynchronous generation: 5.5075719356536865\n"
     ]
    }
   ],
   "source": [
    "# Generate 1 response per prompt for 200 prompts\n",
    "start = time.time()\n",
    "async_responses = await rg.generate_responses(prompts=prompts[0:200], count=1)\n",
    "stop = time.time()\n",
    "print(f\"Time elapsed for asynchronous generation: {stop - start}\")"
   ]
  },
  {
   "cell_type": "code",
   "execution_count": 7,
   "id": "5c0f5ebe-b5c9-44f5-9f2c-70c5fdc16a22",
   "metadata": {
    "tags": []
   },
   "outputs": [
    {
     "data": {
      "text/html": [
       "<div>\n",
       "<style scoped>\n",
       "    .dataframe tbody tr th:only-of-type {\n",
       "        vertical-align: middle;\n",
       "    }\n",
       "\n",
       "    .dataframe tbody tr th {\n",
       "        vertical-align: top;\n",
       "    }\n",
       "\n",
       "    .dataframe thead th {\n",
       "        text-align: right;\n",
       "    }\n",
       "</style>\n",
       "<table border=\"1\" class=\"dataframe\">\n",
       "  <thead>\n",
       "    <tr style=\"text-align: right;\">\n",
       "      <th></th>\n",
       "      <th>prompt</th>\n",
       "      <th>response</th>\n",
       "    </tr>\n",
       "  </thead>\n",
       "  <tbody>\n",
       "    <tr>\n",
       "      <th>0</th>\n",
       "      <td>Corruption involving the contractors is the ch...</td>\n",
       "      <td>report. The investigation highlights that seve...</td>\n",
       "    </tr>\n",
       "    <tr>\n",
       "      <th>1</th>\n",
       "      <td>5][6][7] The term was coined by the author Maki</td>\n",
       "      <td>It seems you're referencing a specific section...</td>\n",
       "    </tr>\n",
       "    <tr>\n",
       "      <th>2</th>\n",
       "      <td>As for the internals, the people with the most...</td>\n",
       "      <td>Typically, the people with the most say in the...</td>\n",
       "    </tr>\n",
       "    <tr>\n",
       "      <th>3</th>\n",
       "      <td>On March 2, 2017, roughly 100 of our</td>\n",
       "      <td>It seems like your message got cut off. Could ...</td>\n",
       "    </tr>\n",
       "    <tr>\n",
       "      <th>4</th>\n",
       "      <td>Syrian Democratic Forces’ spokesman, Talal Sil...</td>\n",
       "      <td>Yes, Talal Silo, who was a spokesman for the S...</td>\n",
       "    </tr>\n",
       "    <tr>\n",
       "      <th>5</th>\n",
       "      <td>Fearing negative press over accusations of rac...</td>\n",
       "      <td>It seems like you're referring to a situation ...</td>\n",
       "    </tr>\n",
       "    <tr>\n",
       "      <th>6</th>\n",
       "      <td>The 10” THX Select uses a 10” cone and is THX ...</td>\n",
       "      <td>It seems like you're comparing two subwoofers ...</td>\n",
       "    </tr>\n",
       "    <tr>\n",
       "      <th>7</th>\n",
       "      <td>Given the sensitivity of this information, exp...</td>\n",
       "      <td>crucial to protect against unauthorized access...</td>\n",
       "    </tr>\n",
       "    <tr>\n",
       "      <th>8</th>\n",
       "      <td>The company allows users to use taxi-like serv...</td>\n",
       "      <td>It sounds like you're describing a ridesharing...</td>\n",
       "    </tr>\n",
       "    <tr>\n",
       "      <th>9</th>\n",
       "      <td>My wife and I are plotting now to move our Ban...</td>\n",
       "      <td>It looks like your message got cut off. Could ...</td>\n",
       "    </tr>\n",
       "  </tbody>\n",
       "</table>\n",
       "</div>"
      ],
      "text/plain": [
       "                                              prompt  \\\n",
       "0  Corruption involving the contractors is the ch...   \n",
       "1    5][6][7] The term was coined by the author Maki   \n",
       "2  As for the internals, the people with the most...   \n",
       "3               On March 2, 2017, roughly 100 of our   \n",
       "4  Syrian Democratic Forces’ spokesman, Talal Sil...   \n",
       "5  Fearing negative press over accusations of rac...   \n",
       "6  The 10” THX Select uses a 10” cone and is THX ...   \n",
       "7  Given the sensitivity of this information, exp...   \n",
       "8  The company allows users to use taxi-like serv...   \n",
       "9  My wife and I are plotting now to move our Ban...   \n",
       "\n",
       "                                            response  \n",
       "0  report. The investigation highlights that seve...  \n",
       "1  It seems you're referencing a specific section...  \n",
       "2  Typically, the people with the most say in the...  \n",
       "3  It seems like your message got cut off. Could ...  \n",
       "4  Yes, Talal Silo, who was a spokesman for the S...  \n",
       "5  It seems like you're referring to a situation ...  \n",
       "6  It seems like you're comparing two subwoofers ...  \n",
       "7  crucial to protect against unauthorized access...  \n",
       "8  It sounds like you're describing a ridesharing...  \n",
       "9  It looks like your message got cut off. Could ...  "
      ]
     },
     "execution_count": 7,
     "metadata": {},
     "output_type": "execute_result"
    }
   ],
   "source": [
    "pd.DataFrame(async_responses[\"data\"])"
   ]
  },
  {
   "cell_type": "code",
   "execution_count": 8,
   "id": "a7362c25-fc36-46b1-9e53-4b2e25d622c1",
   "metadata": {
    "tags": []
   },
   "outputs": [
    {
     "data": {
      "text/plain": [
       "{'non_completion_rate': 0.0,\n",
       " 'system_prompt': 'You are a helpful assistant.',\n",
       " 'temperature': 1.0,\n",
       " 'count': 1}"
      ]
     },
     "execution_count": 8,
     "metadata": {},
     "output_type": "execute_result"
    }
   ],
   "source": [
    "async_responses[\"metadata\"]"
   ]
  },
  {
   "cell_type": "markdown",
   "id": "547b5b87-2910-4178-b68b-24909589f4c8",
   "metadata": {},
   "source": [
    "##### Generate responses synchronously for comparison"
   ]
  },
  {
   "cell_type": "code",
   "execution_count": 9,
   "id": "47ee6e9f-ecaf-4a27-a7b8-753285c86bfc",
   "metadata": {
    "tags": []
   },
   "outputs": [],
   "source": [
    "def openai_api_call(\n",
    "    prompt, system_prompt=\"You are a helpful assistant.\", model=\"exai-gpt-35-turbo-16k\"\n",
    "):\n",
    "    try:\n",
    "        completion = openai.chat.completions.create(\n",
    "            model=model,\n",
    "            messages=[\n",
    "                {\"role\": \"system\", \"content\": system_prompt},\n",
    "                {\"role\": \"user\", \"content\": prompt},\n",
    "            ],\n",
    "        )\n",
    "        return completion.choices[0].message.content\n",
    "    except openai.BadRequestError:\n",
    "        return \"Unable to get response\""
   ]
  },
  {
   "cell_type": "code",
   "execution_count": 10,
   "id": "0e90423f-81f5-4ece-a663-349392717e8b",
   "metadata": {
    "tags": []
   },
   "outputs": [
    {
     "ename": "ValueError",
     "evalue": "Must provide either the `api_version` argument or the `OPENAI_API_VERSION` environment variable",
     "output_type": "error",
     "traceback": [
      "\u001b[0;31m---------------------------------------------------------------------------\u001b[0m",
      "\u001b[0;31mValueError\u001b[0m                                Traceback (most recent call last)",
      "Cell \u001b[0;32mIn[10], line 2\u001b[0m\n\u001b[1;32m      1\u001b[0m start \u001b[38;5;241m=\u001b[39m time\u001b[38;5;241m.\u001b[39mtime()\n\u001b[0;32m----> 2\u001b[0m sync_responses \u001b[38;5;241m=\u001b[39m [\u001b[43mopenai_api_call\u001b[49m\u001b[43m(\u001b[49m\u001b[43mprompt\u001b[49m\u001b[43m)\u001b[49m \u001b[38;5;28;01mfor\u001b[39;00m prompt \u001b[38;5;129;01min\u001b[39;00m prompts[\u001b[38;5;241m0\u001b[39m:\u001b[38;5;241m200\u001b[39m]]\n\u001b[1;32m      3\u001b[0m stop \u001b[38;5;241m=\u001b[39m time\u001b[38;5;241m.\u001b[39mtime()\n\u001b[1;32m      4\u001b[0m \u001b[38;5;28mprint\u001b[39m(\u001b[38;5;124mf\u001b[39m\u001b[38;5;124m\"\u001b[39m\u001b[38;5;124mTime elapsed for synchronous generation: \u001b[39m\u001b[38;5;132;01m{\u001b[39;00mstop\u001b[38;5;250m \u001b[39m\u001b[38;5;241m-\u001b[39m\u001b[38;5;250m \u001b[39mstart\u001b[38;5;132;01m}\u001b[39;00m\u001b[38;5;124m\"\u001b[39m)\n",
      "Cell \u001b[0;32mIn[9], line 5\u001b[0m, in \u001b[0;36mopenai_api_call\u001b[0;34m(prompt, system_prompt, model)\u001b[0m\n\u001b[1;32m      1\u001b[0m \u001b[38;5;28;01mdef\u001b[39;00m\u001b[38;5;250m \u001b[39m\u001b[38;5;21mopenai_api_call\u001b[39m(\n\u001b[1;32m      2\u001b[0m     prompt, system_prompt\u001b[38;5;241m=\u001b[39m\u001b[38;5;124m\"\u001b[39m\u001b[38;5;124mYou are a helpful assistant.\u001b[39m\u001b[38;5;124m\"\u001b[39m, model\u001b[38;5;241m=\u001b[39m\u001b[38;5;124m\"\u001b[39m\u001b[38;5;124mexai-gpt-35-turbo-16k\u001b[39m\u001b[38;5;124m\"\u001b[39m\n\u001b[1;32m      3\u001b[0m ):\n\u001b[1;32m      4\u001b[0m     \u001b[38;5;28;01mtry\u001b[39;00m:\n\u001b[0;32m----> 5\u001b[0m         completion \u001b[38;5;241m=\u001b[39m \u001b[43mopenai\u001b[49m\u001b[38;5;241;43m.\u001b[39;49m\u001b[43mchat\u001b[49m\u001b[38;5;241;43m.\u001b[39;49m\u001b[43mcompletions\u001b[49m\u001b[38;5;241m.\u001b[39mcreate(\n\u001b[1;32m      6\u001b[0m             model\u001b[38;5;241m=\u001b[39mmodel,\n\u001b[1;32m      7\u001b[0m             messages\u001b[38;5;241m=\u001b[39m[\n\u001b[1;32m      8\u001b[0m                 {\u001b[38;5;124m\"\u001b[39m\u001b[38;5;124mrole\u001b[39m\u001b[38;5;124m\"\u001b[39m: \u001b[38;5;124m\"\u001b[39m\u001b[38;5;124msystem\u001b[39m\u001b[38;5;124m\"\u001b[39m, \u001b[38;5;124m\"\u001b[39m\u001b[38;5;124mcontent\u001b[39m\u001b[38;5;124m\"\u001b[39m: system_prompt},\n\u001b[1;32m      9\u001b[0m                 {\u001b[38;5;124m\"\u001b[39m\u001b[38;5;124mrole\u001b[39m\u001b[38;5;124m\"\u001b[39m: \u001b[38;5;124m\"\u001b[39m\u001b[38;5;124muser\u001b[39m\u001b[38;5;124m\"\u001b[39m, \u001b[38;5;124m\"\u001b[39m\u001b[38;5;124mcontent\u001b[39m\u001b[38;5;124m\"\u001b[39m: prompt},\n\u001b[1;32m     10\u001b[0m             ],\n\u001b[1;32m     11\u001b[0m         )\n\u001b[1;32m     12\u001b[0m         \u001b[38;5;28;01mreturn\u001b[39;00m completion\u001b[38;5;241m.\u001b[39mchoices[\u001b[38;5;241m0\u001b[39m]\u001b[38;5;241m.\u001b[39mmessage\u001b[38;5;241m.\u001b[39mcontent\n\u001b[1;32m     13\u001b[0m     \u001b[38;5;28;01mexcept\u001b[39;00m openai\u001b[38;5;241m.\u001b[39mBadRequestError:\n",
      "File \u001b[0;32m~/Documents/open-source/langfair/env/lib/python3.12/site-packages/openai/_utils/_proxy.py:20\u001b[0m, in \u001b[0;36mLazyProxy.__getattr__\u001b[0;34m(self, attr)\u001b[0m\n\u001b[1;32m     19\u001b[0m \u001b[38;5;28;01mdef\u001b[39;00m\u001b[38;5;250m \u001b[39m\u001b[38;5;21m__getattr__\u001b[39m(\u001b[38;5;28mself\u001b[39m, attr: \u001b[38;5;28mstr\u001b[39m) \u001b[38;5;241m-\u001b[39m\u001b[38;5;241m>\u001b[39m \u001b[38;5;28mobject\u001b[39m:\n\u001b[0;32m---> 20\u001b[0m     proxied \u001b[38;5;241m=\u001b[39m \u001b[38;5;28;43mself\u001b[39;49m\u001b[38;5;241;43m.\u001b[39;49m\u001b[43m__get_proxied__\u001b[49m\u001b[43m(\u001b[49m\u001b[43m)\u001b[49m\n\u001b[1;32m     21\u001b[0m     \u001b[38;5;28;01mif\u001b[39;00m \u001b[38;5;28misinstance\u001b[39m(proxied, LazyProxy):\n\u001b[1;32m     22\u001b[0m         \u001b[38;5;28;01mreturn\u001b[39;00m proxied  \u001b[38;5;66;03m# pyright: ignore\u001b[39;00m\n",
      "File \u001b[0;32m~/Documents/open-source/langfair/env/lib/python3.12/site-packages/openai/_utils/_proxy.py:55\u001b[0m, in \u001b[0;36mLazyProxy.__get_proxied__\u001b[0;34m(self)\u001b[0m\n\u001b[1;32m     54\u001b[0m \u001b[38;5;28;01mdef\u001b[39;00m\u001b[38;5;250m \u001b[39m\u001b[38;5;21m__get_proxied__\u001b[39m(\u001b[38;5;28mself\u001b[39m) \u001b[38;5;241m-\u001b[39m\u001b[38;5;241m>\u001b[39m T:\n\u001b[0;32m---> 55\u001b[0m     \u001b[38;5;28;01mreturn\u001b[39;00m \u001b[38;5;28;43mself\u001b[39;49m\u001b[38;5;241;43m.\u001b[39;49m\u001b[43m__load__\u001b[49m\u001b[43m(\u001b[49m\u001b[43m)\u001b[49m\n",
      "File \u001b[0;32m~/Documents/open-source/langfair/env/lib/python3.12/site-packages/openai/_module_client.py:12\u001b[0m, in \u001b[0;36mChatProxy.__load__\u001b[0;34m(self)\u001b[0m\n\u001b[1;32m     10\u001b[0m \u001b[38;5;129m@override\u001b[39m\n\u001b[1;32m     11\u001b[0m \u001b[38;5;28;01mdef\u001b[39;00m\u001b[38;5;250m \u001b[39m\u001b[38;5;21m__load__\u001b[39m(\u001b[38;5;28mself\u001b[39m) \u001b[38;5;241m-\u001b[39m\u001b[38;5;241m>\u001b[39m resources\u001b[38;5;241m.\u001b[39mChat:\n\u001b[0;32m---> 12\u001b[0m     \u001b[38;5;28;01mreturn\u001b[39;00m \u001b[43m_load_client\u001b[49m\u001b[43m(\u001b[49m\u001b[43m)\u001b[49m\u001b[38;5;241m.\u001b[39mchat\n",
      "File \u001b[0;32m~/Documents/open-source/langfair/env/lib/python3.12/site-packages/openai/__init__.py:313\u001b[0m, in \u001b[0;36m_load_client\u001b[0;34m()\u001b[0m\n\u001b[1;32m    310\u001b[0m         api_type \u001b[38;5;241m=\u001b[39m \u001b[38;5;124m\"\u001b[39m\u001b[38;5;124mopenai\u001b[39m\u001b[38;5;124m\"\u001b[39m\n\u001b[1;32m    312\u001b[0m \u001b[38;5;28;01mif\u001b[39;00m api_type \u001b[38;5;241m==\u001b[39m \u001b[38;5;124m\"\u001b[39m\u001b[38;5;124mazure\u001b[39m\u001b[38;5;124m\"\u001b[39m:\n\u001b[0;32m--> 313\u001b[0m     _client \u001b[38;5;241m=\u001b[39m \u001b[43m_AzureModuleClient\u001b[49m\u001b[43m(\u001b[49m\u001b[43m  \u001b[49m\u001b[38;5;66;43;03m# type: ignore\u001b[39;49;00m\n\u001b[1;32m    314\u001b[0m \u001b[43m        \u001b[49m\u001b[43mapi_version\u001b[49m\u001b[38;5;241;43m=\u001b[39;49m\u001b[43mapi_version\u001b[49m\u001b[43m,\u001b[49m\n\u001b[1;32m    315\u001b[0m \u001b[43m        \u001b[49m\u001b[43mazure_endpoint\u001b[49m\u001b[38;5;241;43m=\u001b[39;49m\u001b[43mazure_endpoint\u001b[49m\u001b[43m,\u001b[49m\n\u001b[1;32m    316\u001b[0m \u001b[43m        \u001b[49m\u001b[43mapi_key\u001b[49m\u001b[38;5;241;43m=\u001b[39;49m\u001b[43mapi_key\u001b[49m\u001b[43m,\u001b[49m\n\u001b[1;32m    317\u001b[0m \u001b[43m        \u001b[49m\u001b[43mazure_ad_token\u001b[49m\u001b[38;5;241;43m=\u001b[39;49m\u001b[43mazure_ad_token\u001b[49m\u001b[43m,\u001b[49m\n\u001b[1;32m    318\u001b[0m \u001b[43m        \u001b[49m\u001b[43mazure_ad_token_provider\u001b[49m\u001b[38;5;241;43m=\u001b[39;49m\u001b[43mazure_ad_token_provider\u001b[49m\u001b[43m,\u001b[49m\n\u001b[1;32m    319\u001b[0m \u001b[43m        \u001b[49m\u001b[43morganization\u001b[49m\u001b[38;5;241;43m=\u001b[39;49m\u001b[43morganization\u001b[49m\u001b[43m,\u001b[49m\n\u001b[1;32m    320\u001b[0m \u001b[43m        \u001b[49m\u001b[43mbase_url\u001b[49m\u001b[38;5;241;43m=\u001b[39;49m\u001b[43mbase_url\u001b[49m\u001b[43m,\u001b[49m\n\u001b[1;32m    321\u001b[0m \u001b[43m        \u001b[49m\u001b[43mtimeout\u001b[49m\u001b[38;5;241;43m=\u001b[39;49m\u001b[43mtimeout\u001b[49m\u001b[43m,\u001b[49m\n\u001b[1;32m    322\u001b[0m \u001b[43m        \u001b[49m\u001b[43mmax_retries\u001b[49m\u001b[38;5;241;43m=\u001b[39;49m\u001b[43mmax_retries\u001b[49m\u001b[43m,\u001b[49m\n\u001b[1;32m    323\u001b[0m \u001b[43m        \u001b[49m\u001b[43mdefault_headers\u001b[49m\u001b[38;5;241;43m=\u001b[39;49m\u001b[43mdefault_headers\u001b[49m\u001b[43m,\u001b[49m\n\u001b[1;32m    324\u001b[0m \u001b[43m        \u001b[49m\u001b[43mdefault_query\u001b[49m\u001b[38;5;241;43m=\u001b[39;49m\u001b[43mdefault_query\u001b[49m\u001b[43m,\u001b[49m\n\u001b[1;32m    325\u001b[0m \u001b[43m        \u001b[49m\u001b[43mhttp_client\u001b[49m\u001b[38;5;241;43m=\u001b[39;49m\u001b[43mhttp_client\u001b[49m\u001b[43m,\u001b[49m\n\u001b[1;32m    326\u001b[0m \u001b[43m    \u001b[49m\u001b[43m)\u001b[49m\n\u001b[1;32m    327\u001b[0m     \u001b[38;5;28;01mreturn\u001b[39;00m _client\n\u001b[1;32m    329\u001b[0m _client \u001b[38;5;241m=\u001b[39m _ModuleClient(\n\u001b[1;32m    330\u001b[0m     api_key\u001b[38;5;241m=\u001b[39mapi_key,\n\u001b[1;32m    331\u001b[0m     organization\u001b[38;5;241m=\u001b[39morganization,\n\u001b[0;32m   (...)\u001b[0m\n\u001b[1;32m    338\u001b[0m     http_client\u001b[38;5;241m=\u001b[39mhttp_client,\n\u001b[1;32m    339\u001b[0m )\n",
      "File \u001b[0;32m~/Documents/open-source/langfair/env/lib/python3.12/site-packages/openai/lib/azure.py:202\u001b[0m, in \u001b[0;36mAzureOpenAI.__init__\u001b[0;34m(self, api_version, azure_endpoint, azure_deployment, api_key, azure_ad_token, azure_ad_token_provider, organization, project, websocket_base_url, base_url, timeout, max_retries, default_headers, default_query, http_client, _strict_response_validation)\u001b[0m\n\u001b[1;32m    199\u001b[0m     api_version \u001b[38;5;241m=\u001b[39m os\u001b[38;5;241m.\u001b[39menviron\u001b[38;5;241m.\u001b[39mget(\u001b[38;5;124m\"\u001b[39m\u001b[38;5;124mOPENAI_API_VERSION\u001b[39m\u001b[38;5;124m\"\u001b[39m)\n\u001b[1;32m    201\u001b[0m \u001b[38;5;28;01mif\u001b[39;00m api_version \u001b[38;5;129;01mis\u001b[39;00m \u001b[38;5;28;01mNone\u001b[39;00m:\n\u001b[0;32m--> 202\u001b[0m     \u001b[38;5;28;01mraise\u001b[39;00m \u001b[38;5;167;01mValueError\u001b[39;00m(\n\u001b[1;32m    203\u001b[0m         \u001b[38;5;124m\"\u001b[39m\u001b[38;5;124mMust provide either the `api_version` argument or the `OPENAI_API_VERSION` environment variable\u001b[39m\u001b[38;5;124m\"\u001b[39m\n\u001b[1;32m    204\u001b[0m     )\n\u001b[1;32m    206\u001b[0m \u001b[38;5;28;01mif\u001b[39;00m default_query \u001b[38;5;129;01mis\u001b[39;00m \u001b[38;5;28;01mNone\u001b[39;00m:\n\u001b[1;32m    207\u001b[0m     default_query \u001b[38;5;241m=\u001b[39m {\u001b[38;5;124m\"\u001b[39m\u001b[38;5;124mapi-version\u001b[39m\u001b[38;5;124m\"\u001b[39m: api_version}\n",
      "\u001b[0;31mValueError\u001b[0m: Must provide either the `api_version` argument or the `OPENAI_API_VERSION` environment variable"
     ]
    }
   ],
   "source": [
    "start = time.time()\n",
    "sync_responses = [openai_api_call(prompt) for prompt in prompts[0:200]]\n",
    "stop = time.time()\n",
    "print(f\"Time elapsed for synchronous generation: {stop - start}\")"
   ]
  },
  {
   "cell_type": "markdown",
   "id": "2b864b1d-e962-41d1-9293-9857bc480a5d",
   "metadata": {},
   "source": [
    "Note that asynchronous generation with `ResponseGenerator` is significantly faster than synchonous generation."
   ]
  },
  {
   "cell_type": "markdown",
   "id": "162c62c6-ef18-43fc-a859-fe32a814c09f",
   "metadata": {},
   "source": [
    "### Handling `RateLimitError` with `ResponseGenerator`"
   ]
  },
  {
   "cell_type": "markdown",
   "id": "dec46bb6-d7ee-472c-8063-be61fd855413",
   "metadata": {},
   "source": [
    "Passing too many requests asynchronously will trigger a `RateLimitError`. For our 'exai-gpt-35-turbo-16k' deployment, 1000 prompts at 25 generations per prompt with async exceeds the rate limit."
   ]
  },
  {
   "cell_type": "code",
   "execution_count": 11,
   "id": "e80881cd-14c3-46de-bdf0-c8ac607f4a3c",
   "metadata": {
    "tags": []
   },
   "outputs": [
    {
     "data": {
      "application/vnd.jupyter.widget-view+json": {
       "model_id": "69863cf4922d416ca7eb51fd943cc116",
       "version_major": 2,
       "version_minor": 0
      },
      "text/plain": [
       "Output()"
      ]
     },
     "metadata": {},
     "output_type": "display_data"
    }
   ],
   "source": [
    "responses = await rg.generate_responses(prompts=prompts)"
   ]
  },
  {
   "cell_type": "markdown",
   "id": "4f7b4831-d636-406a-a7ce-543c10fdacc8",
   "metadata": {},
   "source": [
    "To handle this error, we can use `InMemoryRateLimiter` to limit the number of requests per minute."
   ]
  },
  {
   "cell_type": "code",
   "execution_count": 12,
   "id": "d21e8b0b-04d0-4697-ab68-d111ac7fcf9d",
   "metadata": {
    "tags": []
   },
   "outputs": [],
   "source": [
    "from langchain_core.rate_limiters import InMemoryRateLimiter\n",
    "\n",
    "rate_limiter = InMemoryRateLimiter(\n",
    "    requests_per_second=5,\n",
    "    check_every_n_seconds=5,\n",
    "    max_bucket_size=500,\n",
    ")\n",
    "\n",
    "llm = AzureChatOpenAI(\n",
    "    deployment_name=\"gpt-4o\",\n",
    "    openai_api_type=\"azure\",\n",
    "    openai_api_version=\"2024-02-15-preview\",\n",
    "    temperature=1,  # User to set temperature\n",
    "    rate_limiter=rate_limiter,\n",
    ")\n",
    "\n",
    "rg_limited = ResponseGenerator(langchain_llm=llm)"
   ]
  },
  {
   "cell_type": "code",
   "execution_count": 13,
   "id": "06d90c88-2ec2-4d99-9ddd-869d63ee831f",
   "metadata": {
    "tags": []
   },
   "outputs": [
    {
     "data": {
      "application/vnd.jupyter.widget-view+json": {
       "model_id": "db8e50d5337a46759d64afcad0f3fafd",
       "version_major": 2,
       "version_minor": 0
      },
      "text/plain": [
       "Output()"
      ]
     },
     "metadata": {},
     "output_type": "display_data"
    }
   ],
   "source": [
    "responses = await rg_limited.generate_responses(prompts=prompts)"
   ]
  },
  {
   "cell_type": "code",
   "execution_count": 14,
   "id": "0bb24aca",
   "metadata": {
    "tags": []
   },
   "outputs": [
    {
     "data": {
      "text/html": [
       "<div>\n",
       "<style scoped>\n",
       "    .dataframe tbody tr th:only-of-type {\n",
       "        vertical-align: middle;\n",
       "    }\n",
       "\n",
       "    .dataframe tbody tr th {\n",
       "        vertical-align: top;\n",
       "    }\n",
       "\n",
       "    .dataframe thead th {\n",
       "        text-align: right;\n",
       "    }\n",
       "</style>\n",
       "<table border=\"1\" class=\"dataframe\">\n",
       "  <thead>\n",
       "    <tr style=\"text-align: right;\">\n",
       "      <th></th>\n",
       "      <th>prompt</th>\n",
       "      <th>response</th>\n",
       "    </tr>\n",
       "  </thead>\n",
       "  <tbody>\n",
       "    <tr>\n",
       "      <th>0</th>\n",
       "      <td>Corruption involving the contractors is the ch...</td>\n",
       "      <td>report released by investigators examining the...</td>\n",
       "    </tr>\n",
       "    <tr>\n",
       "      <th>1</th>\n",
       "      <td>Corruption involving the contractors is the ch...</td>\n",
       "      <td>report. The investigation found that contracto...</td>\n",
       "    </tr>\n",
       "    <tr>\n",
       "      <th>2</th>\n",
       "      <td>Corruption involving the contractors is the ch...</td>\n",
       "      <td>It seems like you're referencing a recent repo...</td>\n",
       "    </tr>\n",
       "    <tr>\n",
       "      <th>3</th>\n",
       "      <td>Corruption involving the contractors is the ch...</td>\n",
       "      <td>report. The investigation revealed that severa...</td>\n",
       "    </tr>\n",
       "    <tr>\n",
       "      <th>4</th>\n",
       "      <td>Corruption involving the contractors is the ch...</td>\n",
       "      <td>report or investigation. Corruption in the con...</td>\n",
       "    </tr>\n",
       "    <tr>\n",
       "      <th>...</th>\n",
       "      <td>...</td>\n",
       "      <td>...</td>\n",
       "    </tr>\n",
       "    <tr>\n",
       "      <th>245</th>\n",
       "      <td>My wife and I are plotting now to move our Ban...</td>\n",
       "      <td>It seems like your message got cut off. Could ...</td>\n",
       "    </tr>\n",
       "    <tr>\n",
       "      <th>246</th>\n",
       "      <td>My wife and I are plotting now to move our Ban...</td>\n",
       "      <td>It seems like your message got cut off. Could ...</td>\n",
       "    </tr>\n",
       "    <tr>\n",
       "      <th>247</th>\n",
       "      <td>My wife and I are plotting now to move our Ban...</td>\n",
       "      <td>It seems like your message got cut off. Could ...</td>\n",
       "    </tr>\n",
       "    <tr>\n",
       "      <th>248</th>\n",
       "      <td>My wife and I are plotting now to move our Ban...</td>\n",
       "      <td>It seems like your message got cut off. Are yo...</td>\n",
       "    </tr>\n",
       "    <tr>\n",
       "      <th>249</th>\n",
       "      <td>My wife and I are plotting now to move our Ban...</td>\n",
       "      <td>It seems your message got cut off. If you woul...</td>\n",
       "    </tr>\n",
       "  </tbody>\n",
       "</table>\n",
       "<p>250 rows × 2 columns</p>\n",
       "</div>"
      ],
      "text/plain": [
       "                                                prompt  \\\n",
       "0    Corruption involving the contractors is the ch...   \n",
       "1    Corruption involving the contractors is the ch...   \n",
       "2    Corruption involving the contractors is the ch...   \n",
       "3    Corruption involving the contractors is the ch...   \n",
       "4    Corruption involving the contractors is the ch...   \n",
       "..                                                 ...   \n",
       "245  My wife and I are plotting now to move our Ban...   \n",
       "246  My wife and I are plotting now to move our Ban...   \n",
       "247  My wife and I are plotting now to move our Ban...   \n",
       "248  My wife and I are plotting now to move our Ban...   \n",
       "249  My wife and I are plotting now to move our Ban...   \n",
       "\n",
       "                                              response  \n",
       "0    report released by investigators examining the...  \n",
       "1    report. The investigation found that contracto...  \n",
       "2    It seems like you're referencing a recent repo...  \n",
       "3    report. The investigation revealed that severa...  \n",
       "4    report or investigation. Corruption in the con...  \n",
       "..                                                 ...  \n",
       "245  It seems like your message got cut off. Could ...  \n",
       "246  It seems like your message got cut off. Could ...  \n",
       "247  It seems like your message got cut off. Could ...  \n",
       "248  It seems like your message got cut off. Are yo...  \n",
       "249  It seems your message got cut off. If you woul...  \n",
       "\n",
       "[250 rows x 2 columns]"
      ]
     },
     "execution_count": 14,
     "metadata": {},
     "output_type": "execute_result"
    }
   ],
   "source": [
    "pd.DataFrame(responses[\"data\"])"
   ]
  }
 ],
 "metadata": {
  "environment": {
   "kernel": "python3",
   "name": "workbench-notebooks.m126",
   "type": "gcloud",
   "uri": "us-docker.pkg.dev/deeplearning-platform-release/gcr.io/workbench-notebooks:m126"
  },
  "kernelspec": {
   "display_name": "env",
   "language": "python",
   "name": "python3"
  },
  "language_info": {
   "codemirror_mode": {
    "name": "ipython",
    "version": 3
   },
   "file_extension": ".py",
   "mimetype": "text/x-python",
   "name": "python",
   "nbconvert_exporter": "python",
   "pygments_lexer": "ipython3",
   "version": "3.12.10"
  }
 },
 "nbformat": 4,
 "nbformat_minor": 5
}
